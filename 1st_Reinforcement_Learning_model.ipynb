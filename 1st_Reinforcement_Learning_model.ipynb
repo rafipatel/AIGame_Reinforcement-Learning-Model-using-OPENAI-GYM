{
 "cells": [
  {
   "cell_type": "code",
   "execution_count": 1,
   "metadata": {
    "scrolled": false
   },
   "outputs": [
    {
     "name": "stdout",
     "output_type": "stream",
     "text": [
      "Requirement already satisfied: tensorflow==2.3.0 in c:\\users\\asus\\anaconda3\\lib\\site-packages (2.3.0)\n",
      "Requirement already satisfied: gast==0.3.3 in c:\\users\\asus\\anaconda3\\lib\\site-packages (from tensorflow==2.3.0) (0.3.3)\n",
      "Requirement already satisfied: absl-py>=0.7.0 in c:\\users\\asus\\anaconda3\\lib\\site-packages (from tensorflow==2.3.0) (0.13.0)\n",
      "Requirement already satisfied: opt-einsum>=2.3.2 in c:\\users\\asus\\anaconda3\\lib\\site-packages (from tensorflow==2.3.0) (3.3.0)\n",
      "Requirement already satisfied: tensorboard<3,>=2.3.0 in c:\\users\\asus\\anaconda3\\lib\\site-packages (from tensorflow==2.3.0) (2.5.0)\n",
      "Requirement already satisfied: protobuf>=3.9.2 in c:\\users\\asus\\anaconda3\\lib\\site-packages (from tensorflow==2.3.0) (3.17.3)\n",
      "Requirement already satisfied: termcolor>=1.1.0 in c:\\users\\asus\\anaconda3\\lib\\site-packages (from tensorflow==2.3.0) (1.1.0)\n",
      "Requirement already satisfied: astunparse==1.6.3 in c:\\users\\asus\\anaconda3\\lib\\site-packages (from tensorflow==2.3.0) (1.6.3)\n",
      "Requirement already satisfied: wrapt>=1.11.1 in c:\\users\\asus\\anaconda3\\lib\\site-packages (from tensorflow==2.3.0) (1.12.1)\n",
      "Requirement already satisfied: grpcio>=1.8.6 in c:\\users\\asus\\anaconda3\\lib\\site-packages (from tensorflow==2.3.0) (1.34.1)\n",
      "Requirement already satisfied: wheel>=0.26 in c:\\users\\asus\\anaconda3\\lib\\site-packages (from tensorflow==2.3.0) (0.35.1)\n",
      "Requirement already satisfied: google-pasta>=0.1.8 in c:\\users\\asus\\anaconda3\\lib\\site-packages (from tensorflow==2.3.0) (0.2.0)\n",
      "Requirement already satisfied: tensorflow-estimator<2.4.0,>=2.3.0 in c:\\users\\asus\\anaconda3\\lib\\site-packages (from tensorflow==2.3.0) (2.3.0)\n",
      "Requirement already satisfied: keras-preprocessing<1.2,>=1.1.1 in c:\\users\\asus\\anaconda3\\lib\\site-packages (from tensorflow==2.3.0) (1.1.2)\n",
      "Requirement already satisfied: h5py<2.11.0,>=2.10.0 in c:\\users\\asus\\anaconda3\\lib\\site-packages (from tensorflow==2.3.0) (2.10.0)\n",
      "Requirement already satisfied: six>=1.12.0 in c:\\users\\asus\\anaconda3\\lib\\site-packages (from tensorflow==2.3.0) (1.15.0)\n",
      "Requirement already satisfied: scipy==1.4.1 in c:\\users\\asus\\anaconda3\\lib\\site-packages (from tensorflow==2.3.0) (1.4.1)\n",
      "Requirement already satisfied: numpy<1.19.0,>=1.16.0 in c:\\users\\asus\\anaconda3\\lib\\site-packages (from tensorflow==2.3.0) (1.18.5)\n",
      "Requirement already satisfied: werkzeug>=0.11.15 in c:\\users\\asus\\anaconda3\\lib\\site-packages (from tensorboard<3,>=2.3.0->tensorflow==2.3.0) (1.0.1)\n",
      "Requirement already satisfied: google-auth<2,>=1.6.3 in c:\\users\\asus\\anaconda3\\lib\\site-packages (from tensorboard<3,>=2.3.0->tensorflow==2.3.0) (1.34.0)\n",
      "Requirement already satisfied: setuptools>=41.0.0 in c:\\users\\asus\\anaconda3\\lib\\site-packages (from tensorboard<3,>=2.3.0->tensorflow==2.3.0) (50.3.1.post20201107)\n",
      "Requirement already satisfied: requests<3,>=2.21.0 in c:\\users\\asus\\anaconda3\\lib\\site-packages (from tensorboard<3,>=2.3.0->tensorflow==2.3.0) (2.24.0)\n",
      "Requirement already satisfied: markdown>=2.6.8 in c:\\users\\asus\\anaconda3\\lib\\site-packages (from tensorboard<3,>=2.3.0->tensorflow==2.3.0) (3.3.4)\n",
      "Requirement already satisfied: tensorboard-plugin-wit>=1.6.0 in c:\\users\\asus\\anaconda3\\lib\\site-packages (from tensorboard<3,>=2.3.0->tensorflow==2.3.0) (1.8.0)\n",
      "Requirement already satisfied: tensorboard-data-server<0.7.0,>=0.6.0 in c:\\users\\asus\\anaconda3\\lib\\site-packages (from tensorboard<3,>=2.3.0->tensorflow==2.3.0) (0.6.1)\n",
      "Requirement already satisfied: google-auth-oauthlib<0.5,>=0.4.1 in c:\\users\\asus\\anaconda3\\lib\\site-packages (from tensorboard<3,>=2.3.0->tensorflow==2.3.0) (0.4.5)\n",
      "Requirement already satisfied: rsa<5,>=3.1.4; python_version >= \"3.6\" in c:\\users\\asus\\anaconda3\\lib\\site-packages (from google-auth<2,>=1.6.3->tensorboard<3,>=2.3.0->tensorflow==2.3.0) (4.7.2)\n",
      "Requirement already satisfied: pyasn1-modules>=0.2.1 in c:\\users\\asus\\anaconda3\\lib\\site-packages (from google-auth<2,>=1.6.3->tensorboard<3,>=2.3.0->tensorflow==2.3.0) (0.2.8)\n",
      "Requirement already satisfied: cachetools<5.0,>=2.0.0 in c:\\users\\asus\\anaconda3\\lib\\site-packages (from google-auth<2,>=1.6.3->tensorboard<3,>=2.3.0->tensorflow==2.3.0) (4.2.2)\n",
      "Requirement already satisfied: certifi>=2017.4.17 in c:\\users\\asus\\anaconda3\\lib\\site-packages (from requests<3,>=2.21.0->tensorboard<3,>=2.3.0->tensorflow==2.3.0) (2020.6.20)\n",
      "Requirement already satisfied: urllib3!=1.25.0,!=1.25.1,<1.26,>=1.21.1 in c:\\users\\asus\\anaconda3\\lib\\site-packages (from requests<3,>=2.21.0->tensorboard<3,>=2.3.0->tensorflow==2.3.0) (1.25.11)\n",
      "Requirement already satisfied: idna<3,>=2.5 in c:\\users\\asus\\anaconda3\\lib\\site-packages (from requests<3,>=2.21.0->tensorboard<3,>=2.3.0->tensorflow==2.3.0) (2.10)\n",
      "Requirement already satisfied: chardet<4,>=3.0.2 in c:\\users\\asus\\anaconda3\\lib\\site-packages (from requests<3,>=2.21.0->tensorboard<3,>=2.3.0->tensorflow==2.3.0) (3.0.4)\n",
      "Requirement already satisfied: requests-oauthlib>=0.7.0 in c:\\users\\asus\\anaconda3\\lib\\site-packages (from google-auth-oauthlib<0.5,>=0.4.1->tensorboard<3,>=2.3.0->tensorflow==2.3.0) (1.3.0)\n",
      "Requirement already satisfied: pyasn1>=0.1.3 in c:\\users\\asus\\anaconda3\\lib\\site-packages (from rsa<5,>=3.1.4; python_version >= \"3.6\"->google-auth<2,>=1.6.3->tensorboard<3,>=2.3.0->tensorflow==2.3.0) (0.4.8)\n",
      "Requirement already satisfied: oauthlib>=3.0.0 in c:\\users\\asus\\anaconda3\\lib\\site-packages (from requests-oauthlib>=0.7.0->google-auth-oauthlib<0.5,>=0.4.1->tensorboard<3,>=2.3.0->tensorflow==2.3.0) (3.1.1)\n",
      "Requirement already satisfied: gym in c:\\users\\asus\\anaconda3\\lib\\site-packages (0.24.1)\n",
      "Requirement already satisfied: gym-notices>=0.0.4 in c:\\users\\asus\\anaconda3\\lib\\site-packages (from gym) (0.0.7)\n",
      "Requirement already satisfied: numpy>=1.18.0 in c:\\users\\asus\\anaconda3\\lib\\site-packages (from gym) (1.18.5)\n",
      "Requirement already satisfied: importlib-metadata>=4.8.0; python_version < \"3.10\" in c:\\users\\asus\\anaconda3\\lib\\site-packages (from gym) (4.12.0)\n",
      "Requirement already satisfied: cloudpickle>=1.2.0 in c:\\users\\asus\\anaconda3\\lib\\site-packages (from gym) (1.6.0)\n",
      "Requirement already satisfied: zipp>=0.5 in c:\\users\\asus\\anaconda3\\lib\\site-packages (from importlib-metadata>=4.8.0; python_version < \"3.10\"->gym) (3.4.0)\n",
      "Requirement already satisfied: keras in c:\\users\\asus\\anaconda3\\lib\\site-packages (2.9.0)\n",
      "Requirement already satisfied: keras-rl2 in c:\\users\\asus\\anaconda3\\lib\\site-packages (1.0.5)\n",
      "Requirement already satisfied: tensorflow in c:\\users\\asus\\anaconda3\\lib\\site-packages (from keras-rl2) (2.3.0)\n",
      "Requirement already satisfied: six>=1.12.0 in c:\\users\\asus\\anaconda3\\lib\\site-packages (from tensorflow->keras-rl2) (1.15.0)\n",
      "Requirement already satisfied: astunparse==1.6.3 in c:\\users\\asus\\anaconda3\\lib\\site-packages (from tensorflow->keras-rl2) (1.6.3)\n",
      "Requirement already satisfied: absl-py>=0.7.0 in c:\\users\\asus\\anaconda3\\lib\\site-packages (from tensorflow->keras-rl2) (0.13.0)\n",
      "Requirement already satisfied: tensorflow-estimator<2.4.0,>=2.3.0 in c:\\users\\asus\\anaconda3\\lib\\site-packages (from tensorflow->keras-rl2) (2.3.0)\n",
      "Requirement already satisfied: scipy==1.4.1 in c:\\users\\asus\\anaconda3\\lib\\site-packages (from tensorflow->keras-rl2) (1.4.1)\n",
      "Requirement already satisfied: numpy<1.19.0,>=1.16.0 in c:\\users\\asus\\anaconda3\\lib\\site-packages (from tensorflow->keras-rl2) (1.18.5)\n",
      "Requirement already satisfied: protobuf>=3.9.2 in c:\\users\\asus\\anaconda3\\lib\\site-packages (from tensorflow->keras-rl2) (3.17.3)\n",
      "Requirement already satisfied: gast==0.3.3 in c:\\users\\asus\\anaconda3\\lib\\site-packages (from tensorflow->keras-rl2) (0.3.3)\n",
      "Requirement already satisfied: termcolor>=1.1.0 in c:\\users\\asus\\anaconda3\\lib\\site-packages (from tensorflow->keras-rl2) (1.1.0)\n",
      "Requirement already satisfied: h5py<2.11.0,>=2.10.0 in c:\\users\\asus\\anaconda3\\lib\\site-packages (from tensorflow->keras-rl2) (2.10.0)\n",
      "Requirement already satisfied: keras-preprocessing<1.2,>=1.1.1 in c:\\users\\asus\\anaconda3\\lib\\site-packages (from tensorflow->keras-rl2) (1.1.2)\n",
      "Requirement already satisfied: grpcio>=1.8.6 in c:\\users\\asus\\anaconda3\\lib\\site-packages (from tensorflow->keras-rl2) (1.34.1)\n",
      "Requirement already satisfied: opt-einsum>=2.3.2 in c:\\users\\asus\\anaconda3\\lib\\site-packages (from tensorflow->keras-rl2) (3.3.0)\n",
      "Requirement already satisfied: wrapt>=1.11.1 in c:\\users\\asus\\anaconda3\\lib\\site-packages (from tensorflow->keras-rl2) (1.12.1)\n",
      "Requirement already satisfied: wheel>=0.26 in c:\\users\\asus\\anaconda3\\lib\\site-packages (from tensorflow->keras-rl2) (0.35.1)\n",
      "Requirement already satisfied: google-pasta>=0.1.8 in c:\\users\\asus\\anaconda3\\lib\\site-packages (from tensorflow->keras-rl2) (0.2.0)\n",
      "Requirement already satisfied: tensorboard<3,>=2.3.0 in c:\\users\\asus\\anaconda3\\lib\\site-packages (from tensorflow->keras-rl2) (2.5.0)\n",
      "Requirement already satisfied: tensorboard-plugin-wit>=1.6.0 in c:\\users\\asus\\anaconda3\\lib\\site-packages (from tensorboard<3,>=2.3.0->tensorflow->keras-rl2) (1.8.0)\n",
      "Requirement already satisfied: markdown>=2.6.8 in c:\\users\\asus\\anaconda3\\lib\\site-packages (from tensorboard<3,>=2.3.0->tensorflow->keras-rl2) (3.3.4)\n",
      "Requirement already satisfied: werkzeug>=0.11.15 in c:\\users\\asus\\anaconda3\\lib\\site-packages (from tensorboard<3,>=2.3.0->tensorflow->keras-rl2) (1.0.1)\n",
      "Requirement already satisfied: google-auth-oauthlib<0.5,>=0.4.1 in c:\\users\\asus\\anaconda3\\lib\\site-packages (from tensorboard<3,>=2.3.0->tensorflow->keras-rl2) (0.4.5)\n",
      "Requirement already satisfied: google-auth<2,>=1.6.3 in c:\\users\\asus\\anaconda3\\lib\\site-packages (from tensorboard<3,>=2.3.0->tensorflow->keras-rl2) (1.34.0)\n",
      "Requirement already satisfied: setuptools>=41.0.0 in c:\\users\\asus\\anaconda3\\lib\\site-packages (from tensorboard<3,>=2.3.0->tensorflow->keras-rl2) (50.3.1.post20201107)\n",
      "Requirement already satisfied: requests<3,>=2.21.0 in c:\\users\\asus\\anaconda3\\lib\\site-packages (from tensorboard<3,>=2.3.0->tensorflow->keras-rl2) (2.24.0)\n",
      "Requirement already satisfied: tensorboard-data-server<0.7.0,>=0.6.0 in c:\\users\\asus\\anaconda3\\lib\\site-packages (from tensorboard<3,>=2.3.0->tensorflow->keras-rl2) (0.6.1)\n",
      "Requirement already satisfied: requests-oauthlib>=0.7.0 in c:\\users\\asus\\anaconda3\\lib\\site-packages (from google-auth-oauthlib<0.5,>=0.4.1->tensorboard<3,>=2.3.0->tensorflow->keras-rl2) (1.3.0)\n",
      "Requirement already satisfied: pyasn1-modules>=0.2.1 in c:\\users\\asus\\anaconda3\\lib\\site-packages (from google-auth<2,>=1.6.3->tensorboard<3,>=2.3.0->tensorflow->keras-rl2) (0.2.8)\n",
      "Requirement already satisfied: cachetools<5.0,>=2.0.0 in c:\\users\\asus\\anaconda3\\lib\\site-packages (from google-auth<2,>=1.6.3->tensorboard<3,>=2.3.0->tensorflow->keras-rl2) (4.2.2)\n",
      "Requirement already satisfied: rsa<5,>=3.1.4; python_version >= \"3.6\" in c:\\users\\asus\\anaconda3\\lib\\site-packages (from google-auth<2,>=1.6.3->tensorboard<3,>=2.3.0->tensorflow->keras-rl2) (4.7.2)\n",
      "Requirement already satisfied: chardet<4,>=3.0.2 in c:\\users\\asus\\anaconda3\\lib\\site-packages (from requests<3,>=2.21.0->tensorboard<3,>=2.3.0->tensorflow->keras-rl2) (3.0.4)\n",
      "Requirement already satisfied: idna<3,>=2.5 in c:\\users\\asus\\anaconda3\\lib\\site-packages (from requests<3,>=2.21.0->tensorboard<3,>=2.3.0->tensorflow->keras-rl2) (2.10)\n",
      "Requirement already satisfied: urllib3!=1.25.0,!=1.25.1,<1.26,>=1.21.1 in c:\\users\\asus\\anaconda3\\lib\\site-packages (from requests<3,>=2.21.0->tensorboard<3,>=2.3.0->tensorflow->keras-rl2) (1.25.11)\n",
      "Requirement already satisfied: certifi>=2017.4.17 in c:\\users\\asus\\anaconda3\\lib\\site-packages (from requests<3,>=2.21.0->tensorboard<3,>=2.3.0->tensorflow->keras-rl2) (2020.6.20)\n",
      "Requirement already satisfied: oauthlib>=3.0.0 in c:\\users\\asus\\anaconda3\\lib\\site-packages (from requests-oauthlib>=0.7.0->google-auth-oauthlib<0.5,>=0.4.1->tensorboard<3,>=2.3.0->tensorflow->keras-rl2) (3.1.1)\n",
      "Requirement already satisfied: pyasn1<0.5.0,>=0.4.6 in c:\\users\\asus\\anaconda3\\lib\\site-packages (from pyasn1-modules>=0.2.1->google-auth<2,>=1.6.3->tensorboard<3,>=2.3.0->tensorflow->keras-rl2) (0.4.8)\n",
      "Requirement already satisfied: pygame in c:\\users\\asus\\anaconda3\\lib\\site-packages (2.1.2)\n"
     ]
    }
   ],
   "source": [
    "!pip install tensorflow==2.3.0\n",
    "#Gym is a standard API for reinforcement learning, \n",
    "#and a diverse collection of reference environments\n",
    "!pip install gym\n",
    "!pip install keras\n",
    "!pip install keras-rl2\n",
    "!pip install pygame"
   ]
  },
  {
   "cell_type": "code",
   "execution_count": 1,
   "metadata": {},
   "outputs": [],
   "source": [
    "#Key dependencies for openAI gym\n",
    "import gym\n",
    "import random"
   ]
  },
  {
   "cell_type": "code",
   "execution_count": 2,
   "metadata": {},
   "outputs": [
    {
     "name": "stderr",
     "output_type": "stream",
     "text": [
      "C:\\Users\\Asus\\anaconda3\\lib\\site-packages\\ipykernel\\ipkernel.py:287: DeprecationWarning: `should_run_async` will not call `transform_cell` automatically in the future. Please pass the result to `transformed_cell` argument and any exception that happen during thetransform in `preprocessing_exc_tuple` in IPython 7.17 and above.\n",
      "  and should_run_async(code)\n",
      "C:\\Users\\Asus\\anaconda3\\lib\\site-packages\\gym\\utils\\passive_env_checker.py:97: UserWarning: \u001b[33mWARN: We recommend you to use a symmetric and normalized Box action space (range=[-1, 1]) https://stable-baselines3.readthedocs.io/en/master/guide/rl_tips.html\u001b[0m\n",
      "  logger.warn(\n"
     ]
    },
    {
     "data": {
      "text/plain": [
       "2"
      ]
     },
     "execution_count": 2,
     "metadata": {},
     "output_type": "execute_result"
    }
   ],
   "source": [
    "#Environment setup-making cartpole environment\n",
    "env = gym.make('CartPole-v1')\n",
    "states = env.observation_space.shape[0]\n",
    "#getting actions, here it is 2 i.e left and right\n",
    "actions = env.action_space.n\n",
    "actions\n"
   ]
  },
  {
   "cell_type": "markdown",
   "metadata": {},
   "source": [
    "## Building a random environment, just randomly playing game to see results"
   ]
  },
  {
   "cell_type": "code",
   "execution_count": 24,
   "metadata": {},
   "outputs": [
    {
     "name": "stdout",
     "output_type": "stream",
     "text": [
      "Episode:1 Score24.0\n",
      "Episode:2 Score15.0\n",
      "Episode:3 Score15.0\n",
      "Episode:4 Score37.0\n",
      "Episode:5 Score20.0\n",
      "Episode:6 Score13.0\n",
      "Episode:7 Score36.0\n",
      "Episode:8 Score26.0\n",
      "Episode:9 Score11.0\n",
      "Episode:10 Score41.0\n"
     ]
    }
   ],
   "source": [
    "\n",
    "episodes = 10\n",
    "for episode in range(1,episodes+1):\n",
    "    state = env.reset()\n",
    "    done = False\n",
    "    score = 0\n",
    "    \n",
    "    #while not done is same as while (done==False)\n",
    "    #run the loop while it is equal to false and exit when equal to True,(while not (opposite of done) run)\n",
    "    while not done:\n",
    "        env.render()\n",
    "        action = random.choice([0,1])\n",
    "        n_state , reward , done , info = env.step(action)\n",
    "        #if we take step in correct direction and we have not failed, we get 1 point(i.e reward)\n",
    "        #if we failed or we get at the end of the game, \"done\" will be set to true.\n",
    "        #\n",
    "        score += reward\n",
    "    print('Episode:{} Score{}'.format(episode, score))\n",
    "    \n"
   ]
  },
  {
   "cell_type": "markdown",
   "metadata": {},
   "source": [
    "## importing Tensorflow keras dependencies\n"
   ]
  },
  {
   "cell_type": "code",
   "execution_count": 30,
   "metadata": {},
   "outputs": [],
   "source": [
    "import numpy as np\n",
    "from tensorflow.keras.models import Sequential\n",
    "from tensorflow.keras.layers import Dense, Flatten\n",
    "from tensorflow.keras.optimizers import Adam\n",
    "#error occured here(no module named termcolor), solved by deleting package from c:Users:Asus:anaconda3->Lib-> site packages and reinstalled\n",
    "#using !pip install termcolor\n"
   ]
  },
  {
   "cell_type": "code",
   "execution_count": 25,
   "metadata": {},
   "outputs": [],
   "source": [
    "#building sequential model\n",
    "def build_model(states,actions):\n",
    "    model = Sequential()\n",
    "    model.add(Flatten(input_shape=(1,states)))\n",
    "    model.add(Dense(24,activation = 'relu'))\n",
    "    model.add(Dense(24,activation = 'relu'))\n",
    "    model.add(Dense(actions,activation = 'linear'))\n",
    "    return model\n",
    "#help(Dense)"
   ]
  },
  {
   "cell_type": "code",
   "execution_count": 36,
   "metadata": {},
   "outputs": [],
   "source": [
    "#model = build_model(states, actions)"
   ]
  },
  {
   "cell_type": "code",
   "execution_count": 35,
   "metadata": {
    "scrolled": true
   },
   "outputs": [
    {
     "name": "stdout",
     "output_type": "stream",
     "text": [
      "Model: \"sequential_1\"\n",
      "_________________________________________________________________\n",
      "Layer (type)                 Output Shape              Param #   \n",
      "=================================================================\n",
      "flatten_1 (Flatten)          (None, 4)                 0         \n",
      "_________________________________________________________________\n",
      "dense_3 (Dense)              (None, 24)                120       \n",
      "_________________________________________________________________\n",
      "dense_4 (Dense)              (None, 24)                600       \n",
      "_________________________________________________________________\n",
      "dense_5 (Dense)              (None, 2)                 50        \n",
      "=================================================================\n",
      "Total params: 770\n",
      "Trainable params: 770\n",
      "Non-trainable params: 0\n",
      "_________________________________________________________________\n"
     ]
    }
   ],
   "source": [
    "model.summary()"
   ]
  },
  {
   "cell_type": "markdown",
   "metadata": {},
   "source": [
    "## Importing keras Reinforcement Learning(RL) dependencies and building the model"
   ]
  },
  {
   "cell_type": "code",
   "execution_count": 36,
   "metadata": {},
   "outputs": [],
   "source": [
    "\n",
    "#DeepQ network agent, various agents are available in keras RL like DQN,NAPA,DDPG,SARSA,CEM agents\n",
    "from rl.agents import DQNAgent\n",
    "#we are using Policy-based RL\n",
    "from rl.policy import BoltzmannQPolicy\n",
    "#we need to maintain some memory for our DQN agent,SequentialMemory class allows us to do that\n",
    "from rl.memory import SequentialMemory"
   ]
  },
  {
   "cell_type": "code",
   "execution_count": 37,
   "metadata": {},
   "outputs": [],
   "source": [
    "\n",
    "model = build_model(states, actions)"
   ]
  },
  {
   "cell_type": "code",
   "execution_count": 38,
   "metadata": {},
   "outputs": [],
   "source": [
    "#wrapping inside a function so we can reproduce it when we want to reload it from memory\n",
    "def build_agent(model, actions):\n",
    "    policy = BoltzmannQPolicy()\n",
    "    memory = SequentialMemory(limit = 50000 , window_length =1)\n",
    "    dqn = DQNAgent(model = model, memory = memory, policy = policy,\n",
    "                   nb_actions = actions, nb_steps_warmup = 10, target_model_update = 1e-2)\n",
    "    return dqn\n",
    "    "
   ]
  },
  {
   "cell_type": "code",
   "execution_count": 39,
   "metadata": {},
   "outputs": [
    {
     "name": "stderr",
     "output_type": "stream",
     "text": [
      "C:\\Users\\Asus\\anaconda3\\lib\\site-packages\\tensorflow\\python\\keras\\engine\\training_utils.py:1446: DeprecationWarning: Using or importing the ABCs from 'collections' instead of from 'collections.abc' is deprecated since Python 3.3, and in 3.9 it will stop working\n",
      "  if isinstance(sample_weight_mode, collections.Mapping):\n"
     ]
    },
    {
     "name": "stdout",
     "output_type": "stream",
     "text": [
      "Training for 50000 steps ...\n",
      "Interval 1 (0 steps performed)\n",
      "WARNING:tensorflow:From C:\\Users\\Asus\\anaconda3\\lib\\site-packages\\tensorflow\\python\\keras\\engine\\training_v1.py:2070: Model.state_updates (from tensorflow.python.keras.engine.training) is deprecated and will be removed in a future version.\n",
      "Instructions for updating:\n",
      "This property should not be used in TensorFlow 2.0, as updates are applied automatically.\n",
      "    1/10000 [..............................] - ETA: 17:40 - reward: 1.0000"
     ]
    },
    {
     "name": "stderr",
     "output_type": "stream",
     "text": [
      "C:\\Users\\Asus\\anaconda3\\lib\\site-packages\\rl\\memory.py:37: UserWarning: Not enough entries to sample without replacement. Consider increasing your warm-up phase to avoid oversampling!\n",
      "  warnings.warn('Not enough entries to sample without replacement. Consider increasing your warm-up phase to avoid oversampling!')\n",
      "C:\\Users\\Asus\\anaconda3\\lib\\site-packages\\rl\\memory.py:38: DeprecationWarning: This function is deprecated. Please call randint(1, 10 + 1) instead\n",
      "  batch_idxs = np.random.random_integers(low, high - 1, size=size)\n"
     ]
    },
    {
     "name": "stdout",
     "output_type": "stream",
     "text": [
      "   18/10000 [..............................] - ETA: 9:14 - reward: 1.0000\r"
     ]
    },
    {
     "name": "stderr",
     "output_type": "stream",
     "text": [
      "C:\\Users\\Asus\\anaconda3\\lib\\site-packages\\rl\\memory.py:38: DeprecationWarning: This function is deprecated. Please call randint(1, 11 + 1) instead\n",
      "  batch_idxs = np.random.random_integers(low, high - 1, size=size)\n",
      "C:\\Users\\Asus\\anaconda3\\lib\\site-packages\\rl\\memory.py:38: DeprecationWarning: This function is deprecated. Please call randint(1, 12 + 1) instead\n",
      "  batch_idxs = np.random.random_integers(low, high - 1, size=size)\n",
      "C:\\Users\\Asus\\anaconda3\\lib\\site-packages\\rl\\memory.py:38: DeprecationWarning: This function is deprecated. Please call randint(1, 13 + 1) instead\n",
      "  batch_idxs = np.random.random_integers(low, high - 1, size=size)\n",
      "C:\\Users\\Asus\\anaconda3\\lib\\site-packages\\rl\\memory.py:38: DeprecationWarning: This function is deprecated. Please call randint(1, 14 + 1) instead\n",
      "  batch_idxs = np.random.random_integers(low, high - 1, size=size)\n",
      "C:\\Users\\Asus\\anaconda3\\lib\\site-packages\\rl\\memory.py:38: DeprecationWarning: This function is deprecated. Please call randint(1, 15 + 1) instead\n",
      "  batch_idxs = np.random.random_integers(low, high - 1, size=size)\n",
      "C:\\Users\\Asus\\anaconda3\\lib\\site-packages\\rl\\memory.py:38: DeprecationWarning: This function is deprecated. Please call randint(1, 16 + 1) instead\n",
      "  batch_idxs = np.random.random_integers(low, high - 1, size=size)\n",
      "C:\\Users\\Asus\\anaconda3\\lib\\site-packages\\rl\\memory.py:38: DeprecationWarning: This function is deprecated. Please call randint(1, 17 + 1) instead\n",
      "  batch_idxs = np.random.random_integers(low, high - 1, size=size)\n",
      "C:\\Users\\Asus\\anaconda3\\lib\\site-packages\\rl\\memory.py:38: DeprecationWarning: This function is deprecated. Please call randint(1, 18 + 1) instead\n",
      "  batch_idxs = np.random.random_integers(low, high - 1, size=size)\n"
     ]
    },
    {
     "name": "stdout",
     "output_type": "stream",
     "text": [
      "   29/10000 [..............................] - ETA: 7:00 - reward: 1.0000"
     ]
    },
    {
     "name": "stderr",
     "output_type": "stream",
     "text": [
      "C:\\Users\\Asus\\anaconda3\\lib\\site-packages\\rl\\memory.py:38: DeprecationWarning: This function is deprecated. Please call randint(1, 19 + 1) instead\n",
      "  batch_idxs = np.random.random_integers(low, high - 1, size=size)\n",
      "C:\\Users\\Asus\\anaconda3\\lib\\site-packages\\rl\\memory.py:38: DeprecationWarning: This function is deprecated. Please call randint(1, 20 + 1) instead\n",
      "  batch_idxs = np.random.random_integers(low, high - 1, size=size)\n",
      "C:\\Users\\Asus\\anaconda3\\lib\\site-packages\\rl\\memory.py:38: DeprecationWarning: This function is deprecated. Please call randint(1, 21 + 1) instead\n",
      "  batch_idxs = np.random.random_integers(low, high - 1, size=size)\n",
      "C:\\Users\\Asus\\anaconda3\\lib\\site-packages\\rl\\memory.py:38: DeprecationWarning: This function is deprecated. Please call randint(1, 22 + 1) instead\n",
      "  batch_idxs = np.random.random_integers(low, high - 1, size=size)\n",
      "C:\\Users\\Asus\\anaconda3\\lib\\site-packages\\rl\\memory.py:38: DeprecationWarning: This function is deprecated. Please call randint(1, 23 + 1) instead\n",
      "  batch_idxs = np.random.random_integers(low, high - 1, size=size)\n",
      "C:\\Users\\Asus\\anaconda3\\lib\\site-packages\\rl\\memory.py:38: DeprecationWarning: This function is deprecated. Please call randint(1, 24 + 1) instead\n",
      "  batch_idxs = np.random.random_integers(low, high - 1, size=size)\n",
      "C:\\Users\\Asus\\anaconda3\\lib\\site-packages\\rl\\memory.py:38: DeprecationWarning: This function is deprecated. Please call randint(1, 25 + 1) instead\n",
      "  batch_idxs = np.random.random_integers(low, high - 1, size=size)\n",
      "C:\\Users\\Asus\\anaconda3\\lib\\site-packages\\rl\\memory.py:38: DeprecationWarning: This function is deprecated. Please call randint(1, 26 + 1) instead\n",
      "  batch_idxs = np.random.random_integers(low, high - 1, size=size)\n",
      "C:\\Users\\Asus\\anaconda3\\lib\\site-packages\\rl\\memory.py:38: DeprecationWarning: This function is deprecated. Please call randint(1, 27 + 1) instead\n",
      "  batch_idxs = np.random.random_integers(low, high - 1, size=size)\n",
      "C:\\Users\\Asus\\anaconda3\\lib\\site-packages\\rl\\memory.py:38: DeprecationWarning: This function is deprecated. Please call randint(1, 28 + 1) instead\n",
      "  batch_idxs = np.random.random_integers(low, high - 1, size=size)\n",
      "C:\\Users\\Asus\\anaconda3\\lib\\site-packages\\rl\\memory.py:38: DeprecationWarning: This function is deprecated. Please call randint(1, 29 + 1) instead\n",
      "  batch_idxs = np.random.random_integers(low, high - 1, size=size)\n",
      "C:\\Users\\Asus\\anaconda3\\lib\\site-packages\\rl\\memory.py:38: DeprecationWarning: This function is deprecated. Please call randint(1, 30 + 1) instead\n",
      "  batch_idxs = np.random.random_integers(low, high - 1, size=size)\n",
      "C:\\Users\\Asus\\anaconda3\\lib\\site-packages\\rl\\memory.py:38: DeprecationWarning: This function is deprecated. Please call randint(1, 31 + 1) instead\n",
      "  batch_idxs = np.random.random_integers(low, high - 1, size=size)\n"
     ]
    },
    {
     "name": "stdout",
     "output_type": "stream",
     "text": [
      "10000/10000 [==============================] - 115s 12ms/step - reward: 1.0000\n",
      "88 episodes - episode_reward: 111.295 [10.000, 450.000] - loss: 2.468 - mae: 19.228 - mean_q: 38.933\n",
      "\n",
      "Interval 2 (10000 steps performed)\n",
      "10000/10000 [==============================] - 116s 12ms/step - reward: 1.0000\n",
      "42 episodes - episode_reward: 238.357 [171.000, 343.000] - loss: 3.367 - mae: 41.133 - mean_q: 83.257\n",
      "\n",
      "Interval 3 (20000 steps performed)\n",
      "10000/10000 [==============================] - 117s 12ms/step - reward: 1.0000\n",
      "39 episodes - episode_reward: 259.410 [191.000, 449.000] - loss: 2.512 - mae: 45.061 - mean_q: 90.956\n",
      "\n",
      "Interval 4 (30000 steps performed)\n",
      "10000/10000 [==============================] - 119s 12ms/step - reward: 1.0000\n",
      "43 episodes - episode_reward: 232.512 [164.000, 465.000] - loss: 1.632 - mae: 43.360 - mean_q: 87.330\n",
      "\n",
      "Interval 5 (40000 steps performed)\n",
      "10000/10000 [==============================] - 121s 12ms/step - reward: 1.0000\n",
      "done, took 588.401 seconds\n"
     ]
    },
    {
     "data": {
      "text/plain": [
       "<tensorflow.python.keras.callbacks.History at 0x1d019120e50>"
      ]
     },
     "execution_count": 39,
     "metadata": {},
     "output_type": "execute_result"
    }
   ],
   "source": [
    "\n",
    "dqn = build_agent(model, actions)\n",
    "dqn.compile(Adam(lr=1e-3), metrics = ['mae'])\n",
    "dqn.fit(env, nb_steps = 50000, visualize = False, verbose = 1)\n",
    "#help(Adam)\n",
    "#error occured Keras-rl2 error AttributeError: 'Sequential' object has no attribute '_compile_time_distribution_strategy'\n",
    "#solved by reversing the order of the cells i.e model = build_model cell after keras RL dependencies cell"
   ]
  },
  {
   "cell_type": "code",
   "execution_count": 40,
   "metadata": {
    "scrolled": true
   },
   "outputs": [
    {
     "name": "stdout",
     "output_type": "stream",
     "text": [
      "Testing for 100 episodes ...\n",
      "Episode 1: reward: 272.000, steps: 272\n",
      "Episode 2: reward: 263.000, steps: 263\n",
      "Episode 3: reward: 203.000, steps: 203\n",
      "Episode 4: reward: 268.000, steps: 268\n",
      "Episode 5: reward: 289.000, steps: 289\n",
      "Episode 6: reward: 267.000, steps: 267\n",
      "Episode 7: reward: 281.000, steps: 281\n",
      "Episode 8: reward: 170.000, steps: 170\n",
      "Episode 9: reward: 273.000, steps: 273\n",
      "Episode 10: reward: 186.000, steps: 186\n",
      "Episode 11: reward: 244.000, steps: 244\n",
      "Episode 12: reward: 180.000, steps: 180\n",
      "Episode 13: reward: 186.000, steps: 186\n",
      "Episode 14: reward: 301.000, steps: 301\n",
      "Episode 15: reward: 215.000, steps: 215\n",
      "Episode 16: reward: 208.000, steps: 208\n",
      "Episode 17: reward: 279.000, steps: 279\n",
      "Episode 18: reward: 286.000, steps: 286\n",
      "Episode 19: reward: 274.000, steps: 274\n",
      "Episode 20: reward: 234.000, steps: 234\n",
      "Episode 21: reward: 239.000, steps: 239\n",
      "Episode 22: reward: 209.000, steps: 209\n",
      "Episode 23: reward: 191.000, steps: 191\n",
      "Episode 24: reward: 241.000, steps: 241\n",
      "Episode 25: reward: 245.000, steps: 245\n",
      "Episode 26: reward: 255.000, steps: 255\n",
      "Episode 27: reward: 279.000, steps: 279\n",
      "Episode 28: reward: 228.000, steps: 228\n",
      "Episode 29: reward: 231.000, steps: 231\n",
      "Episode 30: reward: 207.000, steps: 207\n",
      "Episode 31: reward: 278.000, steps: 278\n",
      "Episode 32: reward: 311.000, steps: 311\n",
      "Episode 33: reward: 228.000, steps: 228\n",
      "Episode 34: reward: 255.000, steps: 255\n",
      "Episode 35: reward: 292.000, steps: 292\n",
      "Episode 36: reward: 197.000, steps: 197\n",
      "Episode 37: reward: 313.000, steps: 313\n",
      "Episode 38: reward: 231.000, steps: 231\n",
      "Episode 39: reward: 240.000, steps: 240\n",
      "Episode 40: reward: 210.000, steps: 210\n",
      "Episode 41: reward: 278.000, steps: 278\n",
      "Episode 42: reward: 187.000, steps: 187\n",
      "Episode 43: reward: 171.000, steps: 171\n",
      "Episode 44: reward: 225.000, steps: 225\n",
      "Episode 45: reward: 182.000, steps: 182\n",
      "Episode 46: reward: 186.000, steps: 186\n",
      "Episode 47: reward: 243.000, steps: 243\n",
      "Episode 48: reward: 208.000, steps: 208\n",
      "Episode 49: reward: 286.000, steps: 286\n",
      "Episode 50: reward: 279.000, steps: 279\n",
      "Episode 51: reward: 208.000, steps: 208\n",
      "Episode 52: reward: 209.000, steps: 209\n",
      "Episode 53: reward: 254.000, steps: 254\n",
      "Episode 54: reward: 188.000, steps: 188\n",
      "Episode 55: reward: 212.000, steps: 212\n",
      "Episode 56: reward: 279.000, steps: 279\n",
      "Episode 57: reward: 279.000, steps: 279\n",
      "Episode 58: reward: 232.000, steps: 232\n",
      "Episode 59: reward: 227.000, steps: 227\n",
      "Episode 60: reward: 280.000, steps: 280\n",
      "Episode 61: reward: 188.000, steps: 188\n",
      "Episode 62: reward: 210.000, steps: 210\n",
      "Episode 63: reward: 235.000, steps: 235\n",
      "Episode 64: reward: 293.000, steps: 293\n",
      "Episode 65: reward: 232.000, steps: 232\n",
      "Episode 66: reward: 309.000, steps: 309\n",
      "Episode 67: reward: 246.000, steps: 246\n",
      "Episode 68: reward: 201.000, steps: 201\n",
      "Episode 69: reward: 261.000, steps: 261\n",
      "Episode 70: reward: 199.000, steps: 199\n",
      "Episode 71: reward: 282.000, steps: 282\n",
      "Episode 72: reward: 215.000, steps: 215\n",
      "Episode 73: reward: 199.000, steps: 199\n",
      "Episode 74: reward: 189.000, steps: 189\n",
      "Episode 75: reward: 191.000, steps: 191\n",
      "Episode 76: reward: 475.000, steps: 475\n",
      "Episode 77: reward: 255.000, steps: 255\n",
      "Episode 78: reward: 251.000, steps: 251\n",
      "Episode 79: reward: 199.000, steps: 199\n",
      "Episode 80: reward: 300.000, steps: 300\n",
      "Episode 81: reward: 217.000, steps: 217\n",
      "Episode 82: reward: 270.000, steps: 270\n",
      "Episode 83: reward: 177.000, steps: 177\n",
      "Episode 84: reward: 233.000, steps: 233\n",
      "Episode 85: reward: 254.000, steps: 254\n",
      "Episode 86: reward: 186.000, steps: 186\n",
      "Episode 87: reward: 180.000, steps: 180\n",
      "Episode 88: reward: 199.000, steps: 199\n",
      "Episode 89: reward: 198.000, steps: 198\n",
      "Episode 90: reward: 278.000, steps: 278\n",
      "Episode 91: reward: 305.000, steps: 305\n",
      "Episode 92: reward: 291.000, steps: 291\n",
      "Episode 93: reward: 212.000, steps: 212\n",
      "Episode 94: reward: 292.000, steps: 292\n",
      "Episode 95: reward: 236.000, steps: 236\n",
      "Episode 96: reward: 176.000, steps: 176\n",
      "Episode 97: reward: 342.000, steps: 342\n",
      "Episode 98: reward: 215.000, steps: 215\n",
      "Episode 99: reward: 210.000, steps: 210\n",
      "Episode 100: reward: 229.000, steps: 229\n",
      "240.02\n"
     ]
    }
   ],
   "source": [
    "scores = dqn.test(env, nb_episodes = 100 ,visualize = False)\n",
    "print(np.mean(scores.history['episode_reward']))\n",
    "#print(scores.history)"
   ]
  },
  {
   "cell_type": "code",
   "execution_count": 41,
   "metadata": {},
   "outputs": [
    {
     "name": "stdout",
     "output_type": "stream",
     "text": [
      "Testing for 5 episodes ...\n",
      "Episode 1: reward: 187.000, steps: 187\n",
      "Episode 2: reward: 257.000, steps: 257\n",
      "Episode 3: reward: 301.000, steps: 301\n",
      "Episode 4: reward: 190.000, steps: 190\n",
      "Episode 5: reward: 237.000, steps: 237\n"
     ]
    }
   ],
   "source": [
    "scores = dqn.test(env, nb_episodes = 5 ,visualize = True)"
   ]
  },
  {
   "cell_type": "code",
   "execution_count": 42,
   "metadata": {},
   "outputs": [],
   "source": [
    "#steps to save the model and use it later on eg for production,\n",
    "#i.e we will save our weights and then reload them when we need\n",
    "dqn.save_weights('dqn_weights.h5f', overwrite =True)\n"
   ]
  },
  {
   "cell_type": "code",
   "execution_count": null,
   "metadata": {},
   "outputs": [],
   "source": [
    "#help(dqn.test)"
   ]
  },
  {
   "cell_type": "markdown",
   "metadata": {},
   "source": [
    "## Deleting the model and reloading it with saved weights"
   ]
  },
  {
   "cell_type": "code",
   "execution_count": 44,
   "metadata": {},
   "outputs": [],
   "source": [
    "del model\n",
    "del dqn\n",
    "del env"
   ]
  },
  {
   "cell_type": "code",
   "execution_count": 47,
   "metadata": {},
   "outputs": [],
   "source": [
    "env = gym.make('CartPole-v1')\n",
    "actions = env.action_space.n\n",
    "states = env.observation_space.shape[0]\n",
    "model = build_model(states, actions)\n",
    "dqn = build_agent(model, actions)\n",
    "dqn.compile(Adam(lr=1e-3), metrics = ['mae'])"
   ]
  },
  {
   "cell_type": "code",
   "execution_count": 48,
   "metadata": {},
   "outputs": [],
   "source": [
    "dqn.load_weights(\"dqn_weights.h5f\")"
   ]
  },
  {
   "cell_type": "code",
   "execution_count": 49,
   "metadata": {},
   "outputs": [
    {
     "name": "stdout",
     "output_type": "stream",
     "text": [
      "Testing for 5 episodes ...\n",
      "Episode 1: reward: 209.000, steps: 209\n",
      "Episode 2: reward: 217.000, steps: 217\n",
      "Episode 3: reward: 194.000, steps: 194\n",
      "Episode 4: reward: 345.000, steps: 345\n",
      "Episode 5: reward: 284.000, steps: 284\n"
     ]
    }
   ],
   "source": [
    "scores = dqn.test(env, nb_episodes = 5, visualize = True)"
   ]
  },
  {
   "cell_type": "code",
   "execution_count": null,
   "metadata": {},
   "outputs": [],
   "source": []
  },
  {
   "cell_type": "code",
   "execution_count": null,
   "metadata": {},
   "outputs": [],
   "source": []
  }
 ],
 "metadata": {
  "kernelspec": {
   "display_name": "Python 3",
   "language": "python",
   "name": "python3"
  },
  "language_info": {
   "codemirror_mode": {
    "name": "ipython",
    "version": 3
   },
   "file_extension": ".py",
   "mimetype": "text/x-python",
   "name": "python",
   "nbconvert_exporter": "python",
   "pygments_lexer": "ipython3",
   "version": "3.8.5"
  }
 },
 "nbformat": 4,
 "nbformat_minor": 4
}
